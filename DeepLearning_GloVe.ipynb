{
 "cells": [
  {
   "cell_type": "code",
   "execution_count": 1,
   "id": "147db1a3-7395-405b-a060-7d5d8c2c69a0",
   "metadata": {},
   "outputs": [],
   "source": [
    "import pandas as pd\n",
    "import numpy as np\n",
    "from keras.preprocessing.text import Tokenizer\n",
    "from keras.preprocessing.sequence import pad_sequences\n",
    "from sklearn.model_selection import train_test_split\n",
    "import gensim\n",
    "import tensorflow as tf\n",
    "from tensorflow.keras.layers import BatchNormalization\n",
    "from tensorflow.keras.models import Model\n",
    "from tensorflow.keras.layers import *"
   ]
  },
  {
   "cell_type": "code",
   "execution_count": 2,
   "id": "0cd13955-5834-43f3-a159-1f19f80832c1",
   "metadata": {},
   "outputs": [],
   "source": [
    "df = pd.read_csv(\"train.csv\")"
   ]
  },
  {
   "cell_type": "code",
   "execution_count": 3,
   "id": "f4272c07-2b9f-4714-bda6-e16e448964f0",
   "metadata": {},
   "outputs": [],
   "source": [
    "X = df[['question1', 'question2']]"
   ]
  },
  {
   "cell_type": "code",
   "execution_count": 4,
   "id": "d5f7e891-0f09-4ce4-baf7-ddd593bc6041",
   "metadata": {},
   "outputs": [],
   "source": [
    "y = df.is_duplicate"
   ]
  },
  {
   "cell_type": "code",
   "execution_count": 5,
   "id": "5616b7b5-a512-48b2-a823-5d818833ed04",
   "metadata": {},
   "outputs": [],
   "source": [
    "# test train split\n",
    "X_train, X_test, y_train, y_test = train_test_split(X, y, random_state=808)"
   ]
  },
  {
   "cell_type": "markdown",
   "id": "2736363a-776b-4758-a432-a1e964ab7f12",
   "metadata": {
    "tags": []
   },
   "source": [
    "### Preprocessing (keras)"
   ]
  },
  {
   "cell_type": "code",
   "execution_count": 6,
   "id": "44794647-8d3f-4794-b664-ac7010ecdf54",
   "metadata": {},
   "outputs": [],
   "source": [
    "# tokenize\n",
    "tok = Tokenizer()\n",
    "tok.fit_on_texts(list(df['question1'].values.astype(str))+list(df['question2'].values.astype(str)))"
   ]
  },
  {
   "cell_type": "code",
   "execution_count": 7,
   "id": "c2aec6ad-d325-4b16-9e5f-84fb41f775a2",
   "metadata": {},
   "outputs": [],
   "source": [
    "# pad and sequence - training\n",
    "X_train_q1 = tok.texts_to_sequences(X_train['question1'].values.astype(str))\n",
    "X_train_q1 = pad_sequences(X_train_q1, maxlen = 30, padding='post')\n",
    "\n",
    "# X_train_q2 = tokenizer.texts_to_sequences(np.array(listq2))\n",
    "X_train_q2 = tok.texts_to_sequences(X_train['question2'].values.astype(str))\n",
    "X_train_q2 = pad_sequences(X_train_q2, maxlen = 30, padding='post')"
   ]
  },
  {
   "cell_type": "code",
   "execution_count": 8,
   "id": "37f21a4a-cb57-4750-bbf3-9a1f20c31947",
   "metadata": {},
   "outputs": [],
   "source": [
    "# pad and sequence - testing\n",
    "X_test_q1 = tok.texts_to_sequences(X_test['question2'].values.astype(str))\n",
    "X_test_q1 = pad_sequences(X_test_q1,maxlen = 30, padding='post')\n",
    "\n",
    "X_test_q2 = tok.texts_to_sequences(X_test['question1'].values.astype(str))\n",
    "X_test_q2 = pad_sequences(X_test_q2, maxlen = 30, padding='post')"
   ]
  },
  {
   "cell_type": "code",
   "execution_count": 9,
   "id": "68fac1f1-310d-451a-97ff-def07f0408af",
   "metadata": {},
   "outputs": [],
   "source": [
    "word_index = tok.word_index"
   ]
  },
  {
   "cell_type": "markdown",
   "id": "4349c067-fb19-418d-accb-be8721820730",
   "metadata": {},
   "source": [
    "### Embeddings using GloVe"
   ]
  },
  {
   "cell_type": "code",
   "execution_count": 11,
   "id": "11bd0b54-852a-4e7a-a151-cc4ebcf221f4",
   "metadata": {},
   "outputs": [],
   "source": [
    "embedding_index = {}\n",
    "with open('glove.6B.300d.txt','r', encoding=\"utf8\") as f:\n",
    "    for line in f:\n",
    "        values = line.split()\n",
    "        word = values[0]\n",
    "        vectors = np.asarray(values[1:], 'float32')\n",
    "        embedding_index[word] = vectors\n",
    "    f.close()"
   ]
  },
  {
   "cell_type": "code",
   "execution_count": 13,
   "id": "20d0877c-694d-4039-816e-8d3b41fbbec1",
   "metadata": {},
   "outputs": [],
   "source": [
    "embedding_matrix = np.random.random((len(word_index)+1, 300))\n",
    "for word, i in word_index.items():\n",
    "    embedding_vector = embedding_index.get(word)\n",
    "    if embedding_vector is not None:\n",
    "        embedding_matrix[i] = embedding_vector"
   ]
  },
  {
   "cell_type": "markdown",
   "id": "cb71b17d-7796-4aea-8553-9d2a98d6e9bf",
   "metadata": {
    "tags": []
   },
   "source": [
    "### LSTM"
   ]
  },
  {
   "cell_type": "code",
   "execution_count": 14,
   "id": "92b69a85-dd15-4161-a3cf-c5dc87266acb",
   "metadata": {},
   "outputs": [],
   "source": [
    "# Model for Q1\n",
    "\n",
    "model_q1 = tf.keras.Sequential()\n",
    "model_q1.add(Embedding(input_dim = len(word_index)+1,\n",
    "                       output_dim = 300,\n",
    "                      weights = [embedding_matrix],\n",
    "                      input_length = 30))\n",
    "model_q1.add(LSTM(128, activation = 'tanh', return_sequences = True))\n",
    "model_q1.add(Dropout(0.2))\n",
    "model_q1.add(LSTM(128, return_sequences = True))\n",
    "model_q1.add(LSTM(128))\n",
    "model_q1.add(Dense(60, activation = 'tanh'))\n",
    "model_q1.add(Dense(2, activation = 'sigmoid'))"
   ]
  },
  {
   "cell_type": "code",
   "execution_count": 15,
   "id": "3acf07c7-c995-422b-991b-2c0400d541ea",
   "metadata": {},
   "outputs": [],
   "source": [
    "# Model for Q2\n",
    "\n",
    "model_q2 = tf.keras.Sequential()\n",
    "model_q2.add(Embedding(input_dim = len(word_index)+1,\n",
    "                       output_dim = 300,\n",
    "                      weights = [embedding_matrix],\n",
    "                      input_length = 30))\n",
    "model_q2.add(LSTM(128, activation = 'tanh', return_sequences = True))\n",
    "model_q2.add(Dropout(0.2))\n",
    "model_q2.add(LSTM(128, return_sequences = True))\n",
    "model_q2.add(LSTM(128))\n",
    "model_q2.add(Dense(60, activation = 'tanh'))\n",
    "model_q2.add(Dense(2, activation = 'sigmoid'))"
   ]
  },
  {
   "cell_type": "code",
   "execution_count": 16,
   "id": "3ea5c0a7-a9d2-43ae-8dcf-e91ec4540820",
   "metadata": {},
   "outputs": [],
   "source": [
    "# Merging the output of the two models,i.e, model_q1 and model_q2\n",
    "mergedOut = Multiply()([model_q1.output, model_q2.output])\n",
    "\n",
    "mergedOut = Flatten()(mergedOut)\n",
    "mergedOut = Dense(100, activation = 'relu')(mergedOut)\n",
    "mergedOut = Dropout(0.2)(mergedOut)\n",
    "mergedOut = Dense(50, activation = 'relu')(mergedOut)\n",
    "mergedOut = Dropout(0.2)(mergedOut)\n",
    "mergedOut = Dense(2, activation = 'sigmoid')(mergedOut)"
   ]
  },
  {
   "cell_type": "code",
   "execution_count": 17,
   "id": "02f36819-9b24-4a6f-b0c5-13ebab5e388e",
   "metadata": {},
   "outputs": [
    {
     "name": "stdout",
     "output_type": "stream",
     "text": [
      "Epoch 1/50\n",
      "102/102 [==============================] - 21s 125ms/step - loss: 0.6599 - acc: 0.6316 - val_loss: 0.6591 - val_acc: 0.6297\n",
      "Epoch 2/50\n",
      "102/102 [==============================] - 11s 111ms/step - loss: 0.6224 - acc: 0.6412 - val_loss: 0.5902 - val_acc: 0.6829\n",
      "Epoch 3/50\n",
      "102/102 [==============================] - 11s 111ms/step - loss: 0.5595 - acc: 0.7154 - val_loss: 0.5448 - val_acc: 0.7253\n",
      "Epoch 4/50\n",
      "102/102 [==============================] - 11s 110ms/step - loss: 0.5179 - acc: 0.7428 - val_loss: 0.5345 - val_acc: 0.7328\n",
      "Epoch 5/50\n",
      "102/102 [==============================] - 11s 110ms/step - loss: 0.4828 - acc: 0.7656 - val_loss: 0.5380 - val_acc: 0.7343\n",
      "Epoch 6/50\n",
      "102/102 [==============================] - 11s 112ms/step - loss: 0.4483 - acc: 0.7862 - val_loss: 0.5387 - val_acc: 0.7328\n",
      "Epoch 7/50\n",
      "102/102 [==============================] - 11s 111ms/step - loss: 0.4197 - acc: 0.8008 - val_loss: 0.5465 - val_acc: 0.7306\n",
      "Epoch 8/50\n",
      "102/102 [==============================] - 11s 111ms/step - loss: 0.3939 - acc: 0.8136 - val_loss: 0.5734 - val_acc: 0.7341\n",
      "Epoch 9/50\n",
      "102/102 [==============================] - 11s 111ms/step - loss: 0.3715 - acc: 0.8244 - val_loss: 0.5914 - val_acc: 0.7381\n",
      "Epoch 10/50\n",
      "102/102 [==============================] - 11s 111ms/step - loss: 0.3499 - acc: 0.8361 - val_loss: 0.6325 - val_acc: 0.7346\n",
      "Epoch 11/50\n",
      "102/102 [==============================] - 11s 111ms/step - loss: 0.3293 - acc: 0.8461 - val_loss: 0.6291 - val_acc: 0.7389\n",
      "Epoch 12/50\n",
      "102/102 [==============================] - 11s 111ms/step - loss: 0.3097 - acc: 0.8563 - val_loss: 0.6988 - val_acc: 0.7270\n",
      "Epoch 13/50\n",
      "102/102 [==============================] - 11s 111ms/step - loss: 0.2902 - acc: 0.8664 - val_loss: 0.6669 - val_acc: 0.7384\n",
      "Epoch 14/50\n",
      "102/102 [==============================] - 11s 111ms/step - loss: 0.2728 - acc: 0.8757 - val_loss: 0.7006 - val_acc: 0.7400\n",
      "Epoch 15/50\n",
      "102/102 [==============================] - 11s 112ms/step - loss: 0.2532 - acc: 0.8849 - val_loss: 0.7557 - val_acc: 0.7405\n",
      "Epoch 16/50\n",
      "102/102 [==============================] - 11s 110ms/step - loss: 0.2319 - acc: 0.8965 - val_loss: 0.8295 - val_acc: 0.7497\n",
      "Epoch 17/50\n",
      "102/102 [==============================] - 11s 112ms/step - loss: 0.2104 - acc: 0.9072 - val_loss: 0.8739 - val_acc: 0.7432\n",
      "Epoch 18/50\n",
      "102/102 [==============================] - 11s 112ms/step - loss: 0.1903 - acc: 0.9178 - val_loss: 0.8947 - val_acc: 0.7499\n",
      "Epoch 19/50\n",
      "102/102 [==============================] - 11s 111ms/step - loss: 0.1732 - acc: 0.9270 - val_loss: 0.9547 - val_acc: 0.7465\n",
      "Epoch 20/50\n",
      "102/102 [==============================] - 11s 111ms/step - loss: 0.1543 - acc: 0.9358 - val_loss: 0.9971 - val_acc: 0.7427\n",
      "Epoch 21/50\n",
      "102/102 [==============================] - 11s 112ms/step - loss: 0.1405 - acc: 0.9424 - val_loss: 1.0590 - val_acc: 0.7493\n",
      "Epoch 22/50\n",
      "102/102 [==============================] - 11s 112ms/step - loss: 0.1300 - acc: 0.9472 - val_loss: 1.0694 - val_acc: 0.7474\n",
      "Epoch 23/50\n",
      "102/102 [==============================] - 12s 113ms/step - loss: 0.1183 - acc: 0.9528 - val_loss: 1.1779 - val_acc: 0.7474\n",
      "Epoch 24/50\n",
      "102/102 [==============================] - 11s 111ms/step - loss: 0.1073 - acc: 0.9576 - val_loss: 1.1976 - val_acc: 0.7441\n",
      "Epoch 25/50\n",
      "102/102 [==============================] - 11s 111ms/step - loss: 0.0992 - acc: 0.9613 - val_loss: 1.2285 - val_acc: 0.7521\n",
      "Epoch 26/50\n",
      "102/102 [==============================] - 11s 112ms/step - loss: 0.0957 - acc: 0.9629 - val_loss: 1.2590 - val_acc: 0.7492\n",
      "Epoch 27/50\n",
      "102/102 [==============================] - 11s 111ms/step - loss: 0.0854 - acc: 0.9666 - val_loss: 1.2795 - val_acc: 0.7504\n",
      "Epoch 28/50\n",
      "102/102 [==============================] - 11s 111ms/step - loss: 0.0783 - acc: 0.9700 - val_loss: 1.3636 - val_acc: 0.7516\n",
      "Epoch 29/50\n",
      "102/102 [==============================] - 11s 111ms/step - loss: 0.0740 - acc: 0.9721 - val_loss: 1.4178 - val_acc: 0.7460\n",
      "Epoch 30/50\n",
      "102/102 [==============================] - 11s 111ms/step - loss: 0.0683 - acc: 0.9744 - val_loss: 1.4468 - val_acc: 0.7488\n",
      "Epoch 31/50\n",
      "102/102 [==============================] - 11s 110ms/step - loss: 0.0643 - acc: 0.9756 - val_loss: 1.3969 - val_acc: 0.7498\n",
      "Epoch 32/50\n",
      "102/102 [==============================] - 11s 111ms/step - loss: 0.0607 - acc: 0.9775 - val_loss: 1.4752 - val_acc: 0.7535\n",
      "Epoch 33/50\n",
      "102/102 [==============================] - 11s 111ms/step - loss: 0.0549 - acc: 0.9794 - val_loss: 1.5226 - val_acc: 0.7499\n",
      "Epoch 34/50\n",
      "102/102 [==============================] - 11s 110ms/step - loss: 0.0522 - acc: 0.9805 - val_loss: 1.5522 - val_acc: 0.7529\n",
      "Epoch 35/50\n",
      "102/102 [==============================] - 11s 112ms/step - loss: 0.0479 - acc: 0.9824 - val_loss: 1.5643 - val_acc: 0.7533\n",
      "Epoch 36/50\n",
      "102/102 [==============================] - 11s 112ms/step - loss: 0.0446 - acc: 0.9838 - val_loss: 1.6453 - val_acc: 0.7442\n",
      "Epoch 37/50\n",
      "102/102 [==============================] - 11s 110ms/step - loss: 0.0420 - acc: 0.9848 - val_loss: 1.6206 - val_acc: 0.7515\n",
      "Epoch 38/50\n",
      "102/102 [==============================] - 11s 111ms/step - loss: 0.0397 - acc: 0.9851 - val_loss: 1.6126 - val_acc: 0.7492\n",
      "Epoch 39/50\n",
      "102/102 [==============================] - 12s 113ms/step - loss: 0.0376 - acc: 0.9862 - val_loss: 1.6746 - val_acc: 0.7486\n",
      "Epoch 40/50\n",
      "102/102 [==============================] - 11s 111ms/step - loss: 0.0377 - acc: 0.9863 - val_loss: 1.6586 - val_acc: 0.7511\n",
      "Epoch 41/50\n",
      "102/102 [==============================] - 12s 116ms/step - loss: 0.0345 - acc: 0.9874 - val_loss: 1.7397 - val_acc: 0.7505\n",
      "Epoch 42/50\n",
      "102/102 [==============================] - 12s 113ms/step - loss: 0.0325 - acc: 0.9880 - val_loss: 1.7198 - val_acc: 0.7514\n",
      "Epoch 43/50\n",
      "102/102 [==============================] - 11s 111ms/step - loss: 0.0309 - acc: 0.9887 - val_loss: 1.8030 - val_acc: 0.7507\n",
      "Epoch 44/50\n",
      "102/102 [==============================] - 12s 114ms/step - loss: 0.0290 - acc: 0.9895 - val_loss: 1.7768 - val_acc: 0.7517\n",
      "Epoch 45/50\n",
      "102/102 [==============================] - 11s 112ms/step - loss: 0.0269 - acc: 0.9903 - val_loss: 1.7850 - val_acc: 0.7515\n",
      "Epoch 46/50\n",
      "102/102 [==============================] - 12s 114ms/step - loss: 0.0255 - acc: 0.9909 - val_loss: 1.7924 - val_acc: 0.7523\n",
      "Epoch 47/50\n",
      "102/102 [==============================] - 12s 114ms/step - loss: 0.0238 - acc: 0.9915 - val_loss: 1.9507 - val_acc: 0.7501\n",
      "Epoch 48/50\n",
      "102/102 [==============================] - 11s 112ms/step - loss: 0.0246 - acc: 0.9911 - val_loss: 1.9569 - val_acc: 0.7480\n",
      "Epoch 49/50\n",
      "102/102 [==============================] - 11s 113ms/step - loss: 0.0223 - acc: 0.9921 - val_loss: 1.8648 - val_acc: 0.7544\n",
      "Epoch 50/50\n",
      "102/102 [==============================] - 11s 111ms/step - loss: 0.0222 - acc: 0.9922 - val_loss: 1.8775 - val_acc: 0.7480\n"
     ]
    }
   ],
   "source": [
    "new_model = Model([model_q1.input, model_q2.input], mergedOut)\n",
    "new_model.compile(optimizer = 'adam', loss = 'sparse_categorical_crossentropy',\n",
    "                 metrics = ['acc'])\n",
    "history = new_model.fit([X_train_q1,X_train_q2],y_train, validation_split=0.33, batch_size = 2000, epochs = 50)"
   ]
  },
  {
   "cell_type": "code",
   "execution_count": 18,
   "id": "5bb8fc94-c42d-4a27-a3d3-a79922babed3",
   "metadata": {},
   "outputs": [
    {
     "name": "stdout",
     "output_type": "stream",
     "text": [
      "51/51 [==============================] - 3s 30ms/step\n"
     ]
    }
   ],
   "source": [
    "y_pred = new_model.predict([X_test_q1, X_test_q2], batch_size=2000, verbose=1)"
   ]
  },
  {
   "cell_type": "code",
   "execution_count": 19,
   "id": "da9aa76e-218b-4444-be92-aa0287677239",
   "metadata": {},
   "outputs": [],
   "source": [
    "import matplotlib.pyplot as plt\n",
    "plt.style.use('ggplot')\n",
    "\n",
    "def plot_history(history):\n",
    "    acc = history.history['acc']\n",
    "    val_acc = history.history['val_acc']\n",
    "    loss = history.history['loss']\n",
    "    val_loss = history.history['val_loss']\n",
    "    x = range(1, len(acc) + 1)\n",
    "\n",
    "    plt.figure(figsize=(12, 5))\n",
    "    plt.subplot(1, 2, 1)\n",
    "    plt.plot(x, acc, 'b', label='Training acc')\n",
    "    plt.plot(x, val_acc, 'r', label='Validation acc')\n",
    "    plt.title('Training and validation accuracy')\n",
    "    plt.legend()\n",
    "    plt.subplot(1, 2, 2)\n",
    "    plt.plot(x, loss, 'b', label='Training loss')\n",
    "    plt.plot(x, val_loss, 'r', label='Validation loss')\n",
    "    plt.title('Training and validation loss')\n",
    "    plt.legend()"
   ]
  },
  {
   "cell_type": "code",
   "execution_count": 20,
   "id": "f1a4e15a-f0e6-4727-83c5-785446abb898",
   "metadata": {},
   "outputs": [
    {
     "data": {
      "image/png": "[encoded data removed]",
      "text/plain": [
       "<Figure size 864x360 with 2 Axes>"
      ]
     },
     "metadata": {},
     "output_type": "display_data"
    }
   ],
   "source": [
    "plot_history(history)"
   ]
  },
  {
   "cell_type": "code",
   "execution_count": 21,
   "id": "8a2e02f0-d56f-47c5-94ef-d159b2e9ccb9",
   "metadata": {},
   "outputs": [
    {
     "name": "stdout",
     "output_type": "stream",
     "text": [
      "Training Accuracy: 0.9135\n",
      "Testing Accuracy:  0.7131\n"
     ]
    }
   ],
   "source": [
    "loss, accuracy = new_model.evaluate([X_train_q1,X_train_q2], y_train, batch_size=2000, verbose=0)\n",
    "print(\"Training Accuracy: {:.4f}\".format(accuracy))\n",
    "loss, accuracy = new_model.evaluate([X_test_q1, X_test_q2], y_test, batch_size=2000, verbose=0)\n",
    "print(\"Testing Accuracy:  {:.4f}\".format(accuracy))"
   ]
  },
  {
   "cell_type": "code",
   "execution_count": null,
   "id": "ab6a6dad-8c57-431c-b8ff-826159ee8417",
   "metadata": {},
   "outputs": [],
   "source": []
  }
 ],
 "metadata": {
  "kernelspec": {
   "display_name": "Python 3 (ipykernel)",
   "language": "python",
   "name": "python3"
  },
  "language_info": {
   "codemirror_mode": {
    "name": "ipython",
    "version": 3
   },
   "file_extension": ".py",
   "mimetype": "text/x-python",
   "name": "python",
   "nbconvert_exporter": "python",
   "pygments_lexer": "ipython3",
   "version": "3.9.7"
  }
 },
 "nbformat": 4,
 "nbformat_minor": 5
}
