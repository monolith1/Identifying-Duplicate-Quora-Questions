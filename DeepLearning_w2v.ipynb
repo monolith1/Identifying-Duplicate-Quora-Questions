{
 "cells": [
  {
   "cell_type": "code",
   "execution_count": 1,
   "id": "147db1a3-7395-405b-a060-7d5d8c2c69a0",
   "metadata": {},
   "outputs": [],
   "source": [
    "import pandas as pd\n",
    "import numpy as np\n",
    "from keras.preprocessing.text import Tokenizer\n",
    "from keras.preprocessing.sequence import pad_sequences\n",
    "from sklearn.model_selection import train_test_split\n",
    "import gensim\n",
    "import tensorflow as tf\n",
    "from tensorflow.keras.layers import BatchNormalization\n",
    "from tensorflow.keras.models import Model\n",
    "from tensorflow.keras.layers import *"
   ]
  },
  {
   "cell_type": "code",
   "execution_count": 2,
   "id": "0cd13955-5834-43f3-a159-1f19f80832c1",
   "metadata": {},
   "outputs": [],
   "source": [
    "df = pd.read_csv(\"train.csv\")"
   ]
  },
  {
   "cell_type": "code",
   "execution_count": 3,
   "id": "f4272c07-2b9f-4714-bda6-e16e448964f0",
   "metadata": {},
   "outputs": [],
   "source": [
    "X = df[['question1', 'question2']]"
   ]
  },
  {
   "cell_type": "code",
   "execution_count": 4,
   "id": "d5f7e891-0f09-4ce4-baf7-ddd593bc6041",
   "metadata": {},
   "outputs": [],
   "source": [
    "y = df.is_duplicate"
   ]
  },
  {
   "cell_type": "code",
   "execution_count": 5,
   "id": "5616b7b5-a512-48b2-a823-5d818833ed04",
   "metadata": {},
   "outputs": [],
   "source": [
    "# test train split\n",
    "X_train, X_test, y_train, y_test = train_test_split(X, y, random_state=808)"
   ]
  },
  {
   "cell_type": "markdown",
   "id": "2736363a-776b-4758-a432-a1e964ab7f12",
   "metadata": {
    "tags": []
   },
   "source": [
    "### Preprocessing (keras)"
   ]
  },
  {
   "cell_type": "code",
   "execution_count": 6,
   "id": "44794647-8d3f-4794-b664-ac7010ecdf54",
   "metadata": {},
   "outputs": [],
   "source": [
    "# tokenize\n",
    "tok = Tokenizer()\n",
    "tok.fit_on_texts(list(df['question1'].values.astype(str))+list(df['question2'].values.astype(str)))"
   ]
  },
  {
   "cell_type": "code",
   "execution_count": 7,
   "id": "c2aec6ad-d325-4b16-9e5f-84fb41f775a2",
   "metadata": {},
   "outputs": [],
   "source": [
    "# pad and sequence - training\n",
    "X_train_q1 = tok.texts_to_sequences(X_train['question1'].values.astype(str))\n",
    "X_train_q1 = pad_sequences(X_train_q1, maxlen = 30, padding='post')\n",
    "\n",
    "# X_train_q2 = tokenizer.texts_to_sequences(np.array(listq2))\n",
    "X_train_q2 = tok.texts_to_sequences(X_train['question2'].values.astype(str))\n",
    "X_train_q2 = pad_sequences(X_train_q2, maxlen = 30, padding='post')"
   ]
  },
  {
   "cell_type": "code",
   "execution_count": 8,
   "id": "37f21a4a-cb57-4750-bbf3-9a1f20c31947",
   "metadata": {},
   "outputs": [],
   "source": [
    "# pad and sequence - testing\n",
    "X_test_q1 = tok.texts_to_sequences(X_test['question2'].values.astype(str))\n",
    "X_test_q1 = pad_sequences(X_test_q1,maxlen = 30, padding='post')\n",
    "\n",
    "X_test_q2 = tok.texts_to_sequences(X_test['question1'].values.astype(str))\n",
    "X_test_q2 = pad_sequences(X_test_q2, maxlen = 30, padding='post')"
   ]
  },
  {
   "cell_type": "code",
   "execution_count": 9,
   "id": "68fac1f1-310d-451a-97ff-def07f0408af",
   "metadata": {},
   "outputs": [],
   "source": [
    "word_index = tok.word_index"
   ]
  },
  {
   "cell_type": "markdown",
   "id": "4349c067-fb19-418d-accb-be8721820730",
   "metadata": {},
   "source": [
    "### Embeddings using word2vec"
   ]
  },
  {
   "cell_type": "code",
   "execution_count": 10,
   "id": "11bd0b54-852a-4e7a-a151-cc4ebcf221f4",
   "metadata": {},
   "outputs": [],
   "source": [
    "w2v = gensim.models.KeyedVectors.load_word2vec_format('GoogleNews-vectors-negative300.bin', binary=True)"
   ]
  },
  {
   "cell_type": "code",
   "execution_count": 11,
   "id": "3989b5dc-99da-4014-9bfb-de54d85790cc",
   "metadata": {},
   "outputs": [],
   "source": [
    "vocab = dict([(k, v.index) for k, v in w2v.vocab.items()])"
   ]
  },
  {
   "cell_type": "code",
   "execution_count": 12,
   "id": "20d0877c-694d-4039-816e-8d3b41fbbec1",
   "metadata": {},
   "outputs": [],
   "source": [
    "embedding_matrix = np.random.random((len(word_index)+1, 300))\n",
    "for word, i in word_index.items():\n",
    "    try:\n",
    "        embedding_vector = w2v.self[word]\n",
    "        if embedding_vector is not None:\n",
    "            embedding_matrix[i] = embedding_vector\n",
    "    except:\n",
    "        pass"
   ]
  },
  {
   "cell_type": "markdown",
   "id": "cb71b17d-7796-4aea-8553-9d2a98d6e9bf",
   "metadata": {
    "tags": []
   },
   "source": [
    "### LSTM"
   ]
  },
  {
   "cell_type": "code",
   "execution_count": 13,
   "id": "92b69a85-dd15-4161-a3cf-c5dc87266acb",
   "metadata": {},
   "outputs": [],
   "source": [
    "# Model for Q1\n",
    "\n",
    "model_q1 = tf.keras.Sequential()\n",
    "model_q1.add(Embedding(input_dim = len(word_index)+1,\n",
    "                       output_dim = 300,\n",
    "                      weights = [embedding_matrix],\n",
    "                      input_length = 30))\n",
    "model_q1.add(LSTM(128, activation = 'tanh', return_sequences = True))\n",
    "model_q1.add(Dropout(0.2))\n",
    "model_q1.add(LSTM(128, return_sequences = True))\n",
    "model_q1.add(LSTM(128))\n",
    "model_q1.add(Dense(60, activation = 'tanh'))\n",
    "model_q1.add(Dense(2, activation = 'sigmoid'))"
   ]
  },
  {
   "cell_type": "code",
   "execution_count": 14,
   "id": "3acf07c7-c995-422b-991b-2c0400d541ea",
   "metadata": {},
   "outputs": [],
   "source": [
    "# Model for Q2\n",
    "\n",
    "model_q2 = tf.keras.Sequential()\n",
    "model_q2.add(Embedding(input_dim = len(word_index)+1,\n",
    "                       output_dim = 300,\n",
    "                      weights = [embedding_matrix],\n",
    "                      input_length = 30))\n",
    "model_q2.add(LSTM(128, activation = 'tanh', return_sequences = True))\n",
    "model_q2.add(Dropout(0.2))\n",
    "model_q2.add(LSTM(128, return_sequences = True))\n",
    "model_q2.add(LSTM(128))\n",
    "model_q2.add(Dense(60, activation = 'tanh'))\n",
    "model_q2.add(Dense(2, activation = 'sigmoid'))"
   ]
  },
  {
   "cell_type": "code",
   "execution_count": 15,
   "id": "3ea5c0a7-a9d2-43ae-8dcf-e91ec4540820",
   "metadata": {},
   "outputs": [],
   "source": [
    "# Merging the output of the two models,i.e, model_q1 and model_q2\n",
    "mergedOut = Multiply()([model_q1.output, model_q2.output])\n",
    "\n",
    "mergedOut = Flatten()(mergedOut)\n",
    "mergedOut = Dense(100, activation = 'relu')(mergedOut)\n",
    "mergedOut = Dropout(0.2)(mergedOut)\n",
    "mergedOut = Dense(50, activation = 'relu')(mergedOut)\n",
    "mergedOut = Dropout(0.2)(mergedOut)\n",
    "mergedOut = Dense(2, activation = 'sigmoid')(mergedOut)"
   ]
  },
  {
   "cell_type": "code",
   "execution_count": 16,
   "id": "02f36819-9b24-4a6f-b0c5-13ebab5e388e",
   "metadata": {},
   "outputs": [
    {
     "name": "stdout",
     "output_type": "stream",
     "text": [
      "Epoch 1/50\n",
      "102/102 [==============================] - 18s 123ms/step - loss: 0.6506 - acc: 0.6294 - val_loss: 0.6228 - val_acc: 0.6297\n",
      "Epoch 2/50\n",
      "102/102 [==============================] - 11s 107ms/step - loss: 0.5965 - acc: 0.6663 - val_loss: 0.5658 - val_acc: 0.7174\n",
      "Epoch 3/50\n",
      "102/102 [==============================] - 11s 106ms/step - loss: 0.5375 - acc: 0.7309 - val_loss: 0.5368 - val_acc: 0.7298\n",
      "Epoch 4/50\n",
      "102/102 [==============================] - 11s 107ms/step - loss: 0.5073 - acc: 0.7504 - val_loss: 0.5304 - val_acc: 0.7343\n",
      "Epoch 5/50\n",
      "102/102 [==============================] - 11s 113ms/step - loss: 0.4860 - acc: 0.7635 - val_loss: 0.5364 - val_acc: 0.7370\n",
      "Epoch 6/50\n",
      "102/102 [==============================] - 11s 108ms/step - loss: 0.4680 - acc: 0.7737 - val_loss: 0.5481 - val_acc: 0.7170\n",
      "Epoch 7/50\n",
      "102/102 [==============================] - 11s 107ms/step - loss: 0.4493 - acc: 0.7827 - val_loss: 0.5310 - val_acc: 0.7403\n",
      "Epoch 8/50\n",
      "102/102 [==============================] - 11s 107ms/step - loss: 0.4350 - acc: 0.7896 - val_loss: 0.5455 - val_acc: 0.7341\n",
      "Epoch 9/50\n",
      "102/102 [==============================] - 11s 109ms/step - loss: 0.4151 - acc: 0.8007 - val_loss: 0.5481 - val_acc: 0.7462\n",
      "Epoch 10/50\n",
      "102/102 [==============================] - 12s 117ms/step - loss: 0.3937 - acc: 0.8137 - val_loss: 0.5695 - val_acc: 0.7407\n",
      "Epoch 11/50\n",
      "102/102 [==============================] - 12s 117ms/step - loss: 0.3700 - acc: 0.8266 - val_loss: 0.5862 - val_acc: 0.7466\n",
      "Epoch 12/50\n",
      "102/102 [==============================] - 12s 119ms/step - loss: 0.3510 - acc: 0.8367 - val_loss: 0.5815 - val_acc: 0.7455\n",
      "Epoch 13/50\n",
      "102/102 [==============================] - 12s 115ms/step - loss: 0.3404 - acc: 0.8434 - val_loss: 0.6206 - val_acc: 0.7436\n",
      "Epoch 14/50\n",
      "102/102 [==============================] - 12s 119ms/step - loss: 0.3176 - acc: 0.8541 - val_loss: 0.6249 - val_acc: 0.7371\n",
      "Epoch 15/50\n",
      "102/102 [==============================] - 12s 121ms/step - loss: 0.3008 - acc: 0.8626 - val_loss: 0.6121 - val_acc: 0.7459\n",
      "Epoch 16/50\n",
      "102/102 [==============================] - 12s 117ms/step - loss: 0.2877 - acc: 0.8692 - val_loss: 0.6543 - val_acc: 0.7360\n",
      "Epoch 17/50\n",
      "102/102 [==============================] - 12s 116ms/step - loss: 0.2736 - acc: 0.8773 - val_loss: 0.7022 - val_acc: 0.7443\n",
      "Epoch 18/50\n",
      "102/102 [==============================] - 12s 120ms/step - loss: 0.2627 - acc: 0.8828 - val_loss: 0.6831 - val_acc: 0.7429\n",
      "Epoch 19/50\n",
      "102/102 [==============================] - 12s 114ms/step - loss: 0.2511 - acc: 0.8897 - val_loss: 0.7419 - val_acc: 0.7396\n",
      "Epoch 20/50\n",
      "102/102 [==============================] - 12s 116ms/step - loss: 0.2446 - acc: 0.8928 - val_loss: 0.7696 - val_acc: 0.7365\n",
      "Epoch 21/50\n",
      "102/102 [==============================] - 12s 114ms/step - loss: 0.2363 - acc: 0.8969 - val_loss: 0.7531 - val_acc: 0.7384\n",
      "Epoch 22/50\n",
      "102/102 [==============================] - 12s 114ms/step - loss: 0.2249 - acc: 0.9032 - val_loss: 0.7773 - val_acc: 0.7398\n",
      "Epoch 23/50\n",
      "102/102 [==============================] - 12s 114ms/step - loss: 0.2157 - acc: 0.9075 - val_loss: 0.7955 - val_acc: 0.7301\n",
      "Epoch 24/50\n",
      "102/102 [==============================] - 12s 113ms/step - loss: 0.2079 - acc: 0.9114 - val_loss: 0.8419 - val_acc: 0.7305\n",
      "Epoch 25/50\n",
      "102/102 [==============================] - 11s 109ms/step - loss: 0.2030 - acc: 0.9121 - val_loss: 0.8037 - val_acc: 0.7381\n",
      "Epoch 26/50\n",
      "102/102 [==============================] - 11s 108ms/step - loss: 0.1970 - acc: 0.9160 - val_loss: 0.8403 - val_acc: 0.7356\n",
      "Epoch 27/50\n",
      "102/102 [==============================] - 11s 110ms/step - loss: 0.1876 - acc: 0.9202 - val_loss: 0.8844 - val_acc: 0.7349\n",
      "Epoch 28/50\n",
      "102/102 [==============================] - 11s 110ms/step - loss: 0.1803 - acc: 0.9240 - val_loss: 0.8653 - val_acc: 0.7348\n",
      "Epoch 29/50\n",
      "102/102 [==============================] - 11s 108ms/step - loss: 0.1761 - acc: 0.9262 - val_loss: 0.8644 - val_acc: 0.7386\n",
      "Epoch 30/50\n",
      "102/102 [==============================] - 11s 109ms/step - loss: 0.1763 - acc: 0.9260 - val_loss: 0.9284 - val_acc: 0.7334\n",
      "Epoch 31/50\n",
      "102/102 [==============================] - 11s 110ms/step - loss: 0.1698 - acc: 0.9291 - val_loss: 0.8732 - val_acc: 0.7405\n",
      "Epoch 32/50\n",
      "102/102 [==============================] - 11s 108ms/step - loss: 0.1621 - acc: 0.9329 - val_loss: 0.9788 - val_acc: 0.7237\n",
      "Epoch 33/50\n",
      "102/102 [==============================] - 11s 107ms/step - loss: 0.1583 - acc: 0.9339 - val_loss: 0.9771 - val_acc: 0.7363\n",
      "Epoch 34/50\n",
      "102/102 [==============================] - 11s 108ms/step - loss: 0.1522 - acc: 0.9377 - val_loss: 0.9594 - val_acc: 0.7313\n",
      "Epoch 35/50\n",
      "102/102 [==============================] - 11s 107ms/step - loss: 0.1512 - acc: 0.9380 - val_loss: 0.9802 - val_acc: 0.7358\n",
      "Epoch 36/50\n",
      "102/102 [==============================] - 11s 110ms/step - loss: 0.1469 - acc: 0.9402 - val_loss: 1.0183 - val_acc: 0.7317\n",
      "Epoch 37/50\n",
      "102/102 [==============================] - 12s 115ms/step - loss: 0.1420 - acc: 0.9421 - val_loss: 1.0407 - val_acc: 0.7258\n",
      "Epoch 38/50\n",
      "102/102 [==============================] - 12s 115ms/step - loss: 0.1392 - acc: 0.9429 - val_loss: 1.0393 - val_acc: 0.7399\n",
      "Epoch 39/50\n",
      "102/102 [==============================] - 11s 110ms/step - loss: 0.1353 - acc: 0.9448 - val_loss: 0.9992 - val_acc: 0.7370\n",
      "Epoch 40/50\n",
      "102/102 [==============================] - 11s 109ms/step - loss: 0.1318 - acc: 0.9467 - val_loss: 1.0913 - val_acc: 0.7412\n",
      "Epoch 41/50\n",
      "102/102 [==============================] - 11s 110ms/step - loss: 0.1285 - acc: 0.9482 - val_loss: 1.1150 - val_acc: 0.7383\n",
      "Epoch 42/50\n",
      "102/102 [==============================] - 12s 118ms/step - loss: 0.1234 - acc: 0.9505 - val_loss: 1.1466 - val_acc: 0.7354\n",
      "Epoch 43/50\n",
      "102/102 [==============================] - 11s 111ms/step - loss: 0.1224 - acc: 0.9506 - val_loss: 1.1634 - val_acc: 0.7332\n",
      "Epoch 44/50\n",
      "102/102 [==============================] - 11s 108ms/step - loss: 0.1217 - acc: 0.9514 - val_loss: 1.1160 - val_acc: 0.7296\n",
      "Epoch 45/50\n",
      "102/102 [==============================] - 11s 109ms/step - loss: 0.1203 - acc: 0.9519 - val_loss: 1.1327 - val_acc: 0.7344\n",
      "Epoch 46/50\n",
      "102/102 [==============================] - 11s 108ms/step - loss: 0.1145 - acc: 0.9545 - val_loss: 1.1554 - val_acc: 0.7317\n",
      "Epoch 47/50\n",
      "102/102 [==============================] - 11s 107ms/step - loss: 0.1139 - acc: 0.9542 - val_loss: 1.2354 - val_acc: 0.7283\n",
      "Epoch 48/50\n",
      "102/102 [==============================] - 11s 108ms/step - loss: 0.1084 - acc: 0.9568 - val_loss: 1.1886 - val_acc: 0.7396\n",
      "Epoch 49/50\n",
      "102/102 [==============================] - 11s 108ms/step - loss: 0.1066 - acc: 0.9572 - val_loss: 1.1996 - val_acc: 0.7309\n",
      "Epoch 50/50\n",
      "102/102 [==============================] - 11s 108ms/step - loss: 0.1027 - acc: 0.9591 - val_loss: 1.2213 - val_acc: 0.7341\n"
     ]
    }
   ],
   "source": [
    "new_model = Model([model_q1.input, model_q2.input], mergedOut)\n",
    "new_model.compile(optimizer = 'adam', loss = 'sparse_categorical_crossentropy',\n",
    "                 metrics = ['acc'])\n",
    "history = new_model.fit([X_train_q1,X_train_q2],y_train, validation_split=0.33, batch_size = 2000, epochs = 50)"
   ]
  },
  {
   "cell_type": "code",
   "execution_count": 17,
   "id": "5bb8fc94-c42d-4a27-a3d3-a79922babed3",
   "metadata": {},
   "outputs": [
    {
     "name": "stdout",
     "output_type": "stream",
     "text": [
      "51/51 [==============================] - 3s 28ms/step\n"
     ]
    }
   ],
   "source": [
    "y_pred = new_model.predict([X_test_q1, X_test_q2], batch_size=2000, verbose=1)"
   ]
  },
  {
   "cell_type": "code",
   "execution_count": 19,
   "id": "da9aa76e-218b-4444-be92-aa0287677239",
   "metadata": {},
   "outputs": [],
   "source": [
    "import matplotlib.pyplot as plt\n",
    "plt.style.use('ggplot')\n",
    "\n",
    "def plot_history(history):\n",
    "    acc = history.history['acc']\n",
    "    val_acc = history.history['val_acc']\n",
    "    loss = history.history['loss']\n",
    "    val_loss = history.history['val_loss']\n",
    "    x = range(1, len(acc) + 1)\n",
    "\n",
    "    plt.figure(figsize=(12, 5))\n",
    "    plt.subplot(1, 2, 1)\n",
    "    plt.plot(x, acc, 'b', label='Training acc')\n",
    "    plt.plot(x, val_acc, 'r', label='Validation acc')\n",
    "    plt.title('Training and validation accuracy')\n",
    "    plt.legend()\n",
    "    plt.subplot(1, 2, 2)\n",
    "    plt.plot(x, loss, 'b', label='Training loss')\n",
    "    plt.plot(x, val_loss, 'r', label='Validation loss')\n",
    "    plt.title('Training and validation loss')\n",
    "    plt.legend()"
   ]
  },
  {
   "cell_type": "code",
   "execution_count": 20,
   "id": "f1a4e15a-f0e6-4727-83c5-785446abb898",
   "metadata": {},
   "outputs": [
    {
     "data": {
      "image/png": "[encoded data removed]",
      "text/plain": [
       "<Figure size 864x360 with 2 Axes>"
      ]
     },
     "metadata": {},
     "output_type": "display_data"
    }
   ],
   "source": [
    "plot_history(history)"
   ]
  },
  {
   "cell_type": "code",
   "execution_count": 24,
   "id": "8a2e02f0-d56f-47c5-94ef-d159b2e9ccb9",
   "metadata": {},
   "outputs": [
    {
     "name": "stdout",
     "output_type": "stream",
     "text": [
      "Training Accuracy: 0.8855\n",
      "Testing Accuracy:  0.7024\n"
     ]
    }
   ],
   "source": [
    "loss, accuracy = new_model.evaluate([X_train_q1,X_train_q2], y_train, batch_size=2000, verbose=0)\n",
    "print(\"Training Accuracy: {:.4f}\".format(accuracy))\n",
    "loss, accuracy = new_model.evaluate([X_test_q1, X_test_q2], y_test, batch_size=2000, verbose=0)\n",
    "print(\"Testing Accuracy:  {:.4f}\".format(accuracy))"
   ]
  },
  {
   "cell_type": "code",
   "execution_count": null,
   "id": "ab6a6dad-8c57-431c-b8ff-826159ee8417",
   "metadata": {},
   "outputs": [],
   "source": []
  }
 ],
 "metadata": {
  "kernelspec": {
   "display_name": "Python 3 (ipykernel)",
   "language": "python",
   "name": "python3"
  },
  "language_info": {
   "codemirror_mode": {
    "name": "ipython",
    "version": 3
   },
   "file_extension": ".py",
   "mimetype": "text/x-python",
   "name": "python",
   "nbconvert_exporter": "python",
   "pygments_lexer": "ipython3",
   "version": "3.9.7"
  }
 },
 "nbformat": 4,
 "nbformat_minor": 5
}
